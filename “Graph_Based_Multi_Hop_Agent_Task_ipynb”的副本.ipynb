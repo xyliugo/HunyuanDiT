{
  "cells": [
    {
      "cell_type": "markdown",
      "metadata": {
        "id": "view-in-github",
        "colab_type": "text"
      },
      "source": [
        "<a href=\"https://colab.research.google.com/github/xyliugo/HunyuanDiT/blob/main/%E2%80%9CGraph_Based_Multi_Hop_Agent_Task_ipynb%E2%80%9D%E7%9A%84%E5%89%AF%E6%9C%AC.ipynb\" target=\"_parent\"><img src=\"https://colab.research.google.com/assets/colab-badge.svg\" alt=\"Open In Colab\"/></a>"
      ]
    },
    {
      "cell_type": "code",
      "source": [
        "!pip install -q langchain neo4j langchain_community yfiles_jupyter_graphs_for_neo4j langchain-groq  sentence-transformers"
      ],
      "metadata": {
        "id": "uqnX9ccT2IsD"
      },
      "execution_count": null,
      "outputs": []
    },
    {
      "cell_type": "code",
      "source": [
        "from langchain.callbacks.manager import AsyncCallbackManagerForToolRun, CallbackManagerForToolRun\n",
        "from langchain.agents import AgentExecutor\n",
        "from langchain.agents.format_scratchpad import format_log_to_messages\n",
        "from langchain.agents.output_parsers import ReActJsonSingleInputOutputParser\n",
        "from langchain.prompts import ChatPromptTemplate, MessagesPlaceholder\n",
        "from langchain.pydantic_v1 import BaseModel, Field\n",
        "from langchain.schema import AIMessage, HumanMessage\n",
        "from langchain.tools.render import render_text_description_and_args\n",
        "from langchain_community.chat_models import ChatOllama\n",
        "from langchain_community.embeddings import HuggingFaceEmbeddings\n",
        "from langchain_groq import ChatGroq\n",
        "from neo4j import GraphDatabase\n",
        "from yfiles_jupyter_graphs_for_neo4j import Neo4jGraphWidget\n",
        "from typing import Dict, List, Optional, Type\n",
        "from langchain.pydantic_v1 import BaseModel, Field\n",
        "from langchain.tools import BaseTool\n",
        "from langchain_community.graphs import Neo4jGraph\n",
        "from langchain_community.vectorstores.neo4j_vector import remove_lucene_chars\n",
        "from typing import Tuple, List\n",
        "from langchain_community.vectorstores import Neo4jVector"
      ],
      "metadata": {
        "id": "wbNJpQdC22PR"
      },
      "execution_count": null,
      "outputs": []
    },
    {
      "cell_type": "code",
      "source": [
        "import os\n",
        "os.environ[\"groq_api_key\"] = \"Your groq api key\" # 免费注册获取 https://console.groq.com/keys"
      ],
      "metadata": {
        "id": "xyIY3rxkp7Re"
      },
      "execution_count": null,
      "outputs": []
    },
    {
      "cell_type": "markdown",
      "source": [
        "## Graph-Based Multi-Hop Agent Task\n",
        "\n",
        "\n",
        "\n",
        "多跳（Multi-Hop ）问题是一类需要多个步骤才能得出答案的复杂任务。无法通过原问题直接检索就能回答，而是需将原始问题分解为更小的步骤，每个步骤分别分析执行召唤数据，直到整体的任务完成。\n",
        "\n",
        "在处理多跳任务时，常规的基于 Vector 直接语义相似性的方法可能显得力不从心，通过 Graph 中的节点和关系来找出线索，分步解决就成了更为理想的思路。\n",
        "\n",
        "同时像 Neo4j 这样的图形数据库可以存储高度复杂且相互关联的结构化数据以及非结构化数据，可以通过对基于节点属性的元数据过滤来缩小检索范围，更容易理清楚问题脉络，对结果也更有可解释性。\n",
        "\n",
        "多跳问题在整体上依赖 Agent 的 ReAct 能力来判断拆解子任务，将大模型推理脑力与采取行动能力集成在一起，理解和处理信息，评估当下情况，采取适当的行动，调用合适的工具，多轮循环直至任务完成。\n",
        "\n",
        "\n",
        "---\n",
        "[上一篇介绍了 Agent 和 Graph 结合使用的方式](https://www.xiaohongshu.com/explore/6665e9c000000000150135a8?app_platform=ios&app_version=8.36&share_from_user_hidden=true&type=video&author_share=1&xhsshare=WeixinSession&shareRedId=ODpFREY9Rjk2NzUyOTgwNjZFOTc6R0xP&apptime=1717979151&wechatWid=5cd9ba53a281612dd8c33e00d51b9aad&wechatOrigin=menu)， 本示例继续基于 Langchain 和 Neo4j，利用属性元数据过滤构建两个 Tool，通过 Agent 来完成 Multi-Hop 任务。\n",
        "\n",
        "- InformationTool：获取 人或组织与之有关联的其他人或组织的信息\n",
        "- InformationNewsTool：获取组织关联的新闻信息，有正面或负面的。\n",
        "\n",
        "> 测试问题：Emil Eifrem 担任首席执行官的公司最近有什么好消息吗?\n",
        "\n",
        "> 任务思路：先要弄清楚 Emil Eifrem 担任 CEO是哪家公司，才能知道去查具体公司的正面消息\n",
        "\n",
        "\n",
        "注意：\n",
        "本示例使用的Neo4j数据库 Instance 是 官方 创建的 companies demo\n",
        "\n",
        "---\n",
        "\n",
        "欢迎关注我的[小红书：AGI悟道](https://www.xiaohongshu.com/user/profile/64cdc8b0000000000b006bff?xhsshare=WeixinSession&appuid=64cdc8b0000000000b006bff&apptime=1715318887&wechatWid=5cd9ba53a281612dd8c33e00d51b9aad&wechatOrigin=menu)，发现更多有趣的AI Demo～"
      ],
      "metadata": {
        "id": "O9uZZpa1HlXD"
      }
    },
    {
      "cell_type": "markdown",
      "source": [
        "### 模型\n",
        "* LLM 使用 Groq 提供的 mixtral-8x7b"
      ],
      "metadata": {
        "id": "EJGeorLE6tXN"
      }
    },
    {
      "cell_type": "code",
      "source": [
        "llm = ChatGroq(temperature=0, groq_api_key=os.environ[\"groq_api_key\"], model_name=\"mixtral-8x7b-32768\")"
      ],
      "metadata": {
        "id": "mymw1izyd4yf"
      },
      "execution_count": null,
      "outputs": []
    },
    {
      "cell_type": "markdown",
      "source": [
        "### 初始化 Neo4jGraph 数据库\n",
        "companies 是 Neo4J 官方创建的围绕公司的 Demo"
      ],
      "metadata": {
        "id": "T7Z_BLOu2-l9"
      }
    },
    {
      "cell_type": "code",
      "source": [
        "os.environ[\"NEO4J_URI\"] = \"neo4j+s://demo.neo4jlabs.com\"\n",
        "os.environ[\"NEO4J_USERNAME\"] = \"companies\"\n",
        "os.environ[\"NEO4J_PASSWORD\"] = \"companies\"\n",
        "os.environ[\"NEO4J_DATABASE\"] = \"companies\"\n",
        "\n",
        "graph = Neo4jGraph(enhanced_schema=True)"
      ],
      "metadata": {
        "id": "Ap4pDRJnbVZ3"
      },
      "execution_count": null,
      "outputs": []
    },
    {
      "cell_type": "markdown",
      "source": [
        "### 查看数据库中 Index，主要是 FULLTEXT 和 Vector  类型\n",
        "entity 这个 Index 用做全局关键词匹配上\n",
        "如果使用的 OpenAI Embedding，可以在文本上 用 Vector，其他的 Embedding Dimension 不匹配 1536"
      ],
      "metadata": {
        "id": "fAtgoPZE3OKL"
      }
    },
    {
      "cell_type": "code",
      "source": [
        "indexs = graph.query(\"SHOW INDEXES\")\n",
        "for index in indexs:\n",
        "    if index[\"type\"] == \"FULLTEXT\" or index[\"type\"] == \"VECTOR\":\n",
        "        name = index[\"name\"]\n",
        "        index_type = index[\"type\"]\n",
        "        properties = index[\"properties\"]\n",
        "        print(f\"Index Name: {name}\")\n",
        "        print(f\"Index Type: {index_type}\")\n",
        "        print(f\"Index Properties: {properties}\")\n",
        "        print(\"---\")"
      ],
      "metadata": {
        "colab": {
          "base_uri": "https://localhost:8080/"
        },
        "id": "kgxwwq6BbT8x",
        "outputId": "51bd9533-2332-4c1e-bb7e-9ae2cf481d32"
      },
      "execution_count": null,
      "outputs": [
        {
          "output_type": "stream",
          "name": "stdout",
          "text": [
            "Index Name: entity\n",
            "Index Type: FULLTEXT\n",
            "Index Properties: ['name']\n",
            "---\n",
            "Index Name: fewshot\n",
            "Index Type: VECTOR\n",
            "Index Properties: ['embedding']\n",
            "---\n",
            "Index Name: news\n",
            "Index Type: VECTOR\n",
            "Index Properties: ['embedding']\n",
            "---\n",
            "Index Name: news_fulltext\n",
            "Index Type: FULLTEXT\n",
            "Index Properties: ['text']\n",
            "---\n",
            "Index Name: news_google\n",
            "Index Type: VECTOR\n",
            "Index Properties: ['embedding_google']\n",
            "---\n"
          ]
        }
      ]
    },
    {
      "cell_type": "markdown",
      "source": [
        "### 节点和关系的可视化全貌"
      ],
      "metadata": {
        "id": "hFX5whUk3h8a"
      }
    },
    {
      "cell_type": "code",
      "source": [
        "try:\n",
        "  import google.colab\n",
        "  from google.colab import output\n",
        "  output.enable_custom_widget_manager()\n",
        "except:\n",
        "  pass\n",
        "\n",
        "cypher = \"MATCH (s)-[r]->(t) RETURN s,r,t LIMIT 50\"\n",
        "\n",
        "driver = GraphDatabase.driver(uri = os.environ[\"NEO4J_URI\"],\n",
        "                              auth = (os.environ[\"NEO4J_USERNAME\"], os.environ[\"NEO4J_PASSWORD\"]))\n",
        "\n",
        "g = Neo4jGraphWidget(driver)\n",
        "\n",
        "g.show_cypher(cypher)"
      ],
      "metadata": {
        "colab": {
          "base_uri": "https://localhost:8080/",
          "height": 817,
          "referenced_widgets": [
            "0b0b9f91ac1847f499c1edb1a9ed9a99",
            "84b09e552d024ce3899a945a7499e89b"
          ]
        },
        "id": "rzwgoq5Vcalt",
        "outputId": "8ca4b0bc-07bb-48c4-a7f4-c382b40115b2"
      },
      "execution_count": null,
      "outputs": [
        {
          "output_type": "display_data",
          "data": {
            "text/plain": [
              "GraphWidget(layout=Layout(height='800px', width='100%'))"
            ],
            "application/vnd.jupyter.widget-view+json": {
              "version_major": 2,
              "version_minor": 0,
              "model_id": "0b0b9f91ac1847f499c1edb1a9ed9a99"
            }
          },
          "metadata": {
            "application/vnd.jupyter.widget-view+json": {
              "colab": {
                "custom_widget_manager": {
                  "url": "https://ssl.gstatic.com/colaboratory-static/widgets/colab-cdn-widget-manager/2b70e893a8ba7c0f/manager.min.js"
                }
              }
            }
          }
        }
      ]
    },
    {
      "cell_type": "markdown",
      "source": [
        "### 查看 Schema，对节点，属性和关系有详细的描述"
      ],
      "metadata": {
        "id": "aMVlJqlP3p7l"
      }
    },
    {
      "cell_type": "code",
      "source": [
        "graph.refresh_schema()\n",
        "print(graph.schema)"
      ],
      "metadata": {
        "colab": {
          "base_uri": "https://localhost:8080/"
        },
        "id": "V8M7OsFTc7XT",
        "outputId": "45d3a40d-23b6-4ef4-d5f9-aa49fa76f743"
      },
      "execution_count": null,
      "outputs": [
        {
          "output_type": "stream",
          "name": "stdout",
          "text": [
            "Node properties:\n",
            "- **Person**\n",
            "  - `name`: STRING Example: \"Julie Spellman Sweet\"\n",
            "  - `id`: STRING Example: \"Eaf0bpz6NNoqLVUCqNZPAew\"\n",
            "  - `summary`: STRING Example: \"CEO at Accenture\"\n",
            "- **Organization**\n",
            "  - `revenue`: FLOAT Example: \"1.2E8\"\n",
            "  - `motto`: STRING Example: \"\"\n",
            "  - `nbrEmployees`: INTEGER Example: \"375\"\n",
            "  - `isDissolved`: BOOLEAN \n",
            "  - `id`: STRING Example: \"E0ZU8eCc5OaqS1LU9qE3n3w\"\n",
            "  - `isPublic`: BOOLEAN \n",
            "  - `name`: STRING Example: \"New Energy Group\"\n",
            "  - `summary`: STRING Example: \"Software company based in Rome, Metropolitan City \"\n",
            "- **IndustryCategory**\n",
            "  - `name`: STRING Example: \"Electronic Products Manufacturers\"\n",
            "  - `id`: STRING Example: \"EUNd__O4zMNW81lAXNK2GNw\"\n",
            "- **City**\n",
            "  - `name`: STRING Example: \"Seattle\"\n",
            "  - `summary`: STRING Example: \"City in and county seat of King County, Washington\"\n",
            "  - `id`: STRING Example: \"EZHWv2xKgN92oYDKSjhJ2gw\"\n",
            "- **Country**\n",
            "  - `name`: STRING Example: \"United States of America\"\n",
            "  - `id`: STRING Example: \"E01d4EK33MmCosgI2KXa4-A\"\n",
            "  - `summary`: STRING Example: \"Country in North America\"\n",
            "- **Article**\n",
            "  - `id`: STRING Example: \"ART176872705964\"\n",
            "  - `sentiment`: FLOAT Example: \"0.856\"\n",
            "  - `author`: STRING Example: \"David Correa\"\n",
            "  - `siteName`: STRING Example: \"MrWeb\"\n",
            "  - `summary`: STRING Example: \"Boston and Mumbai-based consumer behavior analyses\"\n",
            "  - `date`: DATE_TIME Example: \"2022-03-10T00:00:00Z\"\n",
            "  - `title`: STRING Example: \"Funds for Consumer Behavior Specialist Infinite An\"\n",
            "- **Chunk**\n",
            "  - `text`: STRING Example: \"Boston and Mumbai-based consumer behavior analyses\"\n",
            "- **Fewshot**\n",
            "  - `Question`: STRING Available options: ['How is Emil Eifrem connected to Michael Hunger? ', 'What are the latest news regarding Google? ', 'Are there any news regarding return to office poli', 'What is Microsoft policy regarding to the return t', 'How many levels of subsidiaries does Blackstone ha', 'How many Telecommunications Companies are from Mal']\n",
            "  - `Cypher`: STRING Available options: ['MATCH (p1:Person {{name:\"Emil Eifrem\"}}), (p2:Pers', 'MATCH (o:Organization {{name:\"Google\"}})<-[:MENTIO', 'CALL apoc.ml.openai.embedding([\"Are there any news', 'CALL apoc.ml.openai.embedding([\"What is Microsoft ', 'MATCH p=(o:Organization {name:\"Blackstone\"})-[:HAS', 'MATCH (o:Organization) WHERE EXISTS {(o)-[:HAS_CAT']\n",
            "  - `id`: INTEGER Min: 2, Max: 7\n",
            "Relationship properties:\n",
            "\n",
            "The relationships:\n",
            "(:Person)-[:HAS_PARENT]->(:Person)\n",
            "(:Person)-[:HAS_CHILD]->(:Person)\n",
            "(:Organization)-[:HAS_CEO]->(:Person)\n",
            "(:Organization)-[:HAS_INVESTOR]->(:Organization)\n",
            "(:Organization)-[:HAS_INVESTOR]->(:Person)\n",
            "(:Organization)-[:IN_CITY]->(:City)\n",
            "(:Organization)-[:HAS_CATEGORY]->(:IndustryCategory)\n",
            "(:Organization)-[:HAS_BOARD_MEMBER]->(:Person)\n",
            "(:Organization)-[:HAS_SUPPLIER]->(:Organization)\n",
            "(:Organization)-[:HAS_SUBSIDIARY]->(:Organization)\n",
            "(:Organization)-[:HAS_COMPETITOR]->(:Organization)\n",
            "(:City)-[:IN_COUNTRY]->(:Country)\n",
            "(:Article)-[:HAS_CHUNK]->(:Chunk)\n",
            "(:Article)-[:MENTIONS]->(:Organization)\n"
          ]
        }
      ]
    },
    {
      "cell_type": "markdown",
      "source": [
        "### 创建 FullText 搜索关键词\n",
        "\n",
        "\n",
        "从 entity FULLTEXT Index 中检索\n",
        "```\n",
        "Index Name: entity\n",
        "Index Type: FULLTEXT\n",
        "Index Properties: ['name']\n",
        "```\n",
        "\n",
        "\n",
        "\n",
        "\n",
        "\n",
        "\n"
      ],
      "metadata": {
        "id": "YQwieh7BdeDi"
      }
    },
    {
      "cell_type": "code",
      "source": [
        "\n",
        "# 全局文本搜索，从entity里找到相似的 Organization\n",
        "def generate_full_text_query(input: str) -> str:\n",
        "    full_text_query = \"\"\n",
        "    #按空格拆分单词列表\n",
        "    words = [el for el in remove_lucene_chars(input).split() if el]\n",
        "    # “～2\"为2的可编辑距离，表示可容错性\n",
        "    for word in words[:-1]:\n",
        "        full_text_query += f\" {word}~2 AND\"\n",
        "    full_text_query += f\" {words[-1]}~2\"\n",
        "    return full_text_query.strip()\n",
        "\n",
        "\n",
        "# 全局文本匹配获取相似度高的组织或人\n",
        "def get_candidates(input: str, node_type:str=\"Organization\", limit: int = 5) -> List[Dict[str, str]]:\n",
        "    candidate_query = f\"\"\"\n",
        "                      CALL db.index.fulltext.queryNodes($index, $fulltextQuery, {{limit: $limit}})\n",
        "                      YIELD node\n",
        "                      WHERE labels(node)[0] = $node_type\n",
        "                      RETURN distinct node.name AS candidate\n",
        "                      \"\"\"\n",
        "\n",
        "    ft_query = generate_full_text_query(input)\n",
        "    candidates = graph.query(\n",
        "        candidate_query, {\"fulltextQuery\": ft_query, \"index\": 'entity', \"limit\": limit, \"node_type\":node_type}\n",
        "    )\n",
        "    # 如果候选中有跟输入完全匹配的返回唯一\n",
        "    direct_match = [el[\"candidate\"] for el in candidates if el[\"candidate\"].lower() == input.lower()]\n",
        "    if direct_match:\n",
        "        return direct_match\n",
        "\n",
        "    return [el[\"candidate\"] for el in candidates]"
      ],
      "metadata": {
        "id": "UwYLLFAx3SZW"
      },
      "execution_count": null,
      "outputs": []
    },
    {
      "cell_type": "markdown",
      "source": [
        "### 获取人或组织及其关联的其他组织和个人的信息和关系\n",
        "\n",
        "知识图谱有以下关系\n",
        "\n",
        "\n",
        "\n",
        "```\n",
        "(:Organization)-[:HAS_CEO]->(:Person)\n",
        "(:Organization)-[:HAS_INVESTOR]->(:Organization)\n",
        "(:Organization)-[:HAS_BOARD_MEMBER]->(:Person)\n",
        "```\n",
        "\n"
      ],
      "metadata": {
        "id": "73fLOrEhsbty"
      }
    },
    {
      "cell_type": "code",
      "source": [
        "##获取 Person 和 Organization 具体信息\n",
        "def get_information(entity: str, relationship: str, type:str) -> str:\n",
        "    # HAS_CEO  HAS_INVESTOR，HAS_BOARD_MEMBER 关系都会被整理拼接成上下文\n",
        "    description_query =\"\"\"\n",
        "                      MATCH (m:Organization|Person)\n",
        "                      WHERE m.name = $candidate\n",
        "                      MATCH (m)-[r:HAS_CEO|HAS_INVESTOR|HAS_BOARD_MEMBER]-(t)\n",
        "                      WHERE type(r) = $relationship\n",
        "                      WITH m, type(r) as type, t.name+\" : \"+t.summary as names\n",
        "                      WITH m, type+\": \"+reduce(s=\"\", n IN names | s + n + \", \") as types\n",
        "                      WITH m, collect(types) as contexts\n",
        "                      WITH m, \"type:\" + labels(m)[0] + \"\\ntitle: \"+ m.name + \"\\nsummary: \"+ m.summary\n",
        "                            +\"\\n\" +\n",
        "                            reduce(s=\"\", c in contexts | s + substring(c, 0, size(c)-2) +\"\\n\") as context\n",
        "                      RETURN context LIMIT 1\n",
        "                      \"\"\"\n",
        "    candidates = get_candidates(entity, \"Person\")\n",
        "    print(f\"Candidates: {candidates}\")\n",
        "    # 全文没搜索候选项\n",
        "    if not candidates:\n",
        "        return \"No information was found about the movie or person in the database\"\n",
        "    # 超过一个候选项提示用户进一步选择\n",
        "    elif len(candidates) > 1:\n",
        "        newline = \"\\n\"\n",
        "        return (\n",
        "            \"Need additional information, which of these \"\n",
        "            f\"did you mean: {newline + newline.join(str(d) for d in candidates)}\"\n",
        "        )\n",
        "    params={\"candidate\": candidates[0], \"relationship\": relationship}\n",
        "    data = graph.query(\n",
        "        description_query, params=params\n",
        "    )\n",
        "    print(f\"Cypher: {description_query}\\n\")\n",
        "    print(f\"Parameters: {params}\")\n",
        "    print(f\"Context: {data}\")\n",
        "    return data[0][\"context\"]\n",
        "\n",
        "# schema information tool 输入\n",
        "class InformationInput(BaseModel):\n",
        "    entity: str = Field(description=\"name of organization or a person mentioned in the question\")\n",
        "    entity_type: str = Field(\n",
        "        description=\"type of the entity\",enum=[\"Organization\", \"Person\"]\n",
        "    )\n",
        "    entity_relationship: str = Field(\n",
        "        description=\"relationship of the entity with other\", enum=[\"HAS_CEO\", \"HAS_INVESTOR\", \"HAS_BOARD_MEMBER\"]\n",
        "    )\n",
        "\n",
        "\n",
        "# 获取关联组织或人信息的 Tool\n",
        "class InformationTool(BaseTool):\n",
        "    name = \"Information\"\n",
        "    description = (\n",
        "        \"Useful for when you need to find other persion and organization associated with the specified person and organization\"\n",
        "    )\n",
        "    args_schema: Type[BaseModel] = InformationInput\n",
        "\n",
        "    def _run(\n",
        "        self,\n",
        "        entity: str,\n",
        "        entity_relationship: str,\n",
        "        entity_type: str,\n",
        "        run_manager: Optional[CallbackManagerForToolRun] = None,\n",
        "    ) -> str:\n",
        "        \"\"\"Use the tool.\"\"\"\n",
        "        return get_information(entity, entity_relationship, entity_type)\n",
        "\n",
        "    async def _arun(\n",
        "        self,\n",
        "        entity: str,\n",
        "        entity_relationship: str,\n",
        "        entity_type: str,\n",
        "        run_manager: Optional[AsyncCallbackManagerForToolRun] = None,\n",
        "    ) -> str:\n",
        "        \"\"\"Use the tool asynchronously.\"\"\"\n",
        "        return get_information(entity, entity_relationship, entity_type)"
      ],
      "metadata": {
        "id": "LkMGC4rQMIZH"
      },
      "execution_count": null,
      "outputs": []
    },
    {
      "cell_type": "markdown",
      "source": [
        "### 封装获取组织关联新闻的 Tool\n",
        "\n",
        "知识图谱有以下关系\n",
        "\n",
        "```\n",
        "(:Article)-[:HAS_CHUNK]->(:Chunk)\n",
        "(:Article)-[:MENTIONS]->(:Organization)\n",
        "```\n",
        "\n"
      ],
      "metadata": {
        "id": "plEJY4g_4PNh"
      }
    },
    {
      "cell_type": "code",
      "source": [
        "def get_organization_news(\n",
        "    organization: Optional[str] = None,\n",
        "    sentiment: Optional[str] = None,\n",
        ") -> str:\n",
        "    # 允许情况下并行执行\n",
        "    base_query = (\n",
        "        \"CYPHER runtime = parallel parallelRuntimeSupport=all \"\n",
        "        \"MATCH (c:Chunk)<-[:HAS_CHUNK]-(a:Article) WHERE \"\n",
        "    )\n",
        "    where_queries = []\n",
        "    params = {\"k\": 5}\n",
        "    if organization:\n",
        "        candidates = get_candidates(organization)\n",
        "        # 超过1个让用户二次确认\n",
        "        if len(candidates) > 1:\n",
        "            return (\n",
        "                \"Ask a follow up question which of the available organizations \"\n",
        "                f\"did the user mean. Available options: {candidates}\"\n",
        "            )\n",
        "        where_queries.append(\n",
        "            \"EXISTS {(a)-[:MENTIONS]->(:Organization {name: $organization})}\"\n",
        "        )\n",
        "        params[\"organization\"] = candidates[0]\n",
        "    # 正面和负面\n",
        "    if sentiment:\n",
        "        if sentiment == \"positive\":\n",
        "            where_queries.append(\"a.sentiment > $sentiment\")\n",
        "            params[\"sentiment\"] = 0.5\n",
        "        else:\n",
        "            where_queries.append(\"a.sentiment < $sentiment\")\n",
        "            params[\"sentiment\"] = -0.5\n",
        "\n",
        "    order_snippet = \" WITH c, a ORDER BY a.date DESC LIMIT toInteger($k) \"\n",
        "\n",
        "    return_snippet = \"RETURN '#title ' + a.title + '\\n#date ' + toString(a.date) + '\\n#text ' + c.text AS output\"\n",
        "\n",
        "    complete_query = (\n",
        "        base_query + \" AND \".join(where_queries) + order_snippet + return_snippet\n",
        "    )\n",
        "    data = graph.query(complete_query, params)\n",
        "\n",
        "    print(f\"Cypher: {complete_query}\\n\")\n",
        "    print(f\"Parameters: {params}\")\n",
        "    context = \"###Article: \".join([el[\"output\"] for el in data])\n",
        "    return context\n",
        "\n",
        "# Schema News Tool 输入\n",
        "class NewsInput(BaseModel):\n",
        "    organization: Optional[str] = Field(\n",
        "        description=\"Organization that the user wants to find information about\"\n",
        "    )\n",
        "    sentiment: Optional[str] = Field(\n",
        "        description=\"Sentiment of articles\", enum=[\"positive\", \"negative\"]\n",
        "    )\n",
        "\n",
        "# 获取组织新闻 Tool\n",
        "class NewsTool(BaseTool):\n",
        "    name = \"NewsInformation\"\n",
        "    description = (\n",
        "        \"useful for when you need to find relevant information in the news\"\n",
        "    )\n",
        "    args_schema: Type[BaseModel] = NewsInput\n",
        "\n",
        "    def _run(\n",
        "        self,\n",
        "        organization: Optional[str] = None,\n",
        "        sentiment: Optional[str] = None,\n",
        "        run_manager: Optional[CallbackManagerForToolRun] = None,\n",
        "    ) -> str:\n",
        "        \"\"\"Use the tool.\"\"\"\n",
        "        return get_organization_news(organization, sentiment)\n",
        "\n",
        "    async def _arun(\n",
        "        self,\n",
        "        organization: Optional[str] = None,\n",
        "        sentiment: Optional[str] = None,\n",
        "        run_manager: Optional[CallbackManagerForToolRun] = None,\n",
        "    ) -> str:\n",
        "        \"\"\"Use the tool asynchronously.\"\"\"\n",
        "        return get_organization_news(organization, sentiment)\n"
      ],
      "metadata": {
        "id": "fQPLGSc13SqK"
      },
      "execution_count": null,
      "outputs": []
    },
    {
      "cell_type": "markdown",
      "source": [
        "### 创建拥有以上工具能力的 ReAct Agent\n",
        "\n",
        "- 组合工具集\n",
        "- 自定义 ReAct Prompt\n",
        "- 构建 Agent"
      ],
      "metadata": {
        "id": "faEhJVQg5pqw"
      }
    },
    {
      "cell_type": "code",
      "source": [
        "# 工具集\n",
        "tools = [InformationTool(),NewsTool()]\n",
        "\n",
        "# 基于 ReAct Prompt，输出截止在 \\nObservation\n",
        "chat_model_with_stop = llm.bind(stop=[\"\\nObservation\"])\n",
        "\n",
        "# ReAct：Thought/Action/Observation\n",
        "System_Message = f\"\"\"Answer the following questions as best you can.\n",
        "You can answer directly if the user is greeting you or similar.\n",
        "Otherise, you have access to the following tools:\n",
        "\n",
        "{render_text_description_and_args(tools).replace('{', '{{').replace('}', '}}')}\n",
        "\n",
        "The way you use the tools is by specifying a json blob.\n",
        "Specifically, this json should have a `action` key (with the name of the tool to use)\n",
        "and a `action_input` key (with the input to the tool going here).\n",
        "The only values that should be in the \"action\" field are: {[t.name for t in tools]}\n",
        "The $JSON_BLOB should only contain a SINGLE action,\n",
        "do NOT return a list of multiple actions.\n",
        "Here is an example of a valid $JSON_BLOB:\n",
        "```\n",
        "{{{{\n",
        "    \"action\": $TOOL_NAME,\n",
        "    \"action_input\": $INPUT\n",
        "}}}}\n",
        "```\n",
        "The $JSON_BLOB must always be enclosed with triple backticks!\n",
        "\n",
        "ALWAYS use the following format:\n",
        "Question: the input question you must answer\n",
        "Thought: you should always think about what to do\n",
        "Action:```\n",
        "$JSON_BLOB\n",
        "```\n",
        "Observation: the result of the action...\n",
        "(this Thought/Action/Observation can repeat N times)\n",
        "Thought: I now know the final answer\n",
        "Final Answer: the final answer to the original input question USING Markdown format\n",
        "\n",
        "Begin! Reminder to always use the exact characters `Final Answer` when responding.'\n",
        "\"\"\"\n",
        "\n",
        "prompt = ChatPromptTemplate.from_messages(\n",
        "    [\n",
        "        (\n",
        "            \"system\",\n",
        "            System_Message,\n",
        "        ),\n",
        "        MessagesPlaceholder(variable_name=\"chat_history\"),\n",
        "        (\"user\", \"{input}\"),\n",
        "        MessagesPlaceholder(variable_name=\"agent_scratchpad\"),\n",
        "    ]\n",
        ")\n",
        "\n",
        "# 格式化聊天记录\n",
        "def _format_chat_history(chat_history: List[Tuple[str, str]]):\n",
        "    buffer = []\n",
        "    for human, ai in chat_history:\n",
        "        buffer.append(HumanMessage(content=human))\n",
        "        buffer.append(AIMessage(content=ai))\n",
        "    return buffer\n",
        "\n",
        "\n",
        "# ReAct Agent\n",
        "agent = (\n",
        "    {\n",
        "        \"input\": lambda x: x[\"input\"],\n",
        "        \"agent_scratchpad\": lambda x: format_log_to_messages(x[\"intermediate_steps\"]),\n",
        "        \"chat_history\": lambda x: _format_chat_history(x[\"chat_history\"])\n",
        "        if x.get(\"chat_history\")\n",
        "        else [],\n",
        "    }\n",
        "    | prompt\n",
        "    | chat_model_with_stop\n",
        "    | ReActJsonSingleInputOutputParser()\n",
        ")\n",
        "\n",
        "# schema agent 输入\n",
        "class AgentInput(BaseModel):\n",
        "    input: str\n",
        "    chat_history: List[Tuple[str, str]] = Field(\n",
        "        ..., extra={\"widget\": {\"type\": \"chat\", \"input\": \"input\", \"output\": \"output\"}}\n",
        "    )\n",
        "\n",
        "\n",
        "agent_executor = AgentExecutor(agent=agent, tools=tools, verbose=True).with_types(\n",
        "    input_type=AgentInput\n",
        ")"
      ],
      "metadata": {
        "id": "D76g1JE94E9M"
      },
      "execution_count": null,
      "outputs": []
    },
    {
      "cell_type": "markdown",
      "source": [
        "### 测试多跳问题：Is there any good news about the company where Emil Eifrem serves as CEO recently?\n",
        "Emil Eifrem 担任首席执行官的公司最近有什么好消息吗?"
      ],
      "metadata": {
        "id": "f8jQ_Uhowp0S"
      }
    },
    {
      "cell_type": "code",
      "source": [
        "agent_executor.invoke({\"input\": \"Is there any good news about the company where Emil Eifrem serves as CEO recently?\", \"chat_history\": []})"
      ],
      "metadata": {
        "colab": {
          "base_uri": "https://localhost:8080/"
        },
        "id": "U4gf_zd-9eVb",
        "outputId": "109eca47-a23b-4a37-9105-cfb6ea431fe1"
      },
      "execution_count": null,
      "outputs": [
        {
          "output_type": "stream",
          "name": "stdout",
          "text": [
            "\n",
            "\n",
            "\u001b[1m> Entering new AgentExecutor chain...\u001b[0m\n",
            "\u001b[32;1m\u001b[1;3mQuestion: Is there any good news about the company where Emil Eifrem serves as CEO recently?\n",
            "\n",
            "Thought: I need to find the company where Emil Eifrem is the CEO and then look for recent positive news about that company. I will use the 'Information' tool to find the company and the 'NewsInformation' tool to find recent positive news about the company.\n",
            "\n",
            "Action:\n",
            "```json\n",
            "{\n",
            "    \"action\": \"Information\",\n",
            "    \"action_input\": {\n",
            "        \"entity\": \"Emil Eifrem\",\n",
            "        \"entity_type\": \"Person\",\n",
            "        \"entity_relationship\": \"HAS_CEO\"\n",
            "    }\n",
            "}\n",
            "```\u001b[0mCandidates: ['Emil Eifrem']\n",
            "Cypher: \n",
            "                      MATCH (m:Organization|Person)\n",
            "                      WHERE m.name = $candidate\n",
            "                      MATCH (m)-[r:HAS_CEO|HAS_INVESTOR|HAS_BOARD_MEMBER]-(t)\n",
            "                      WHERE type(r) = $relationship\n",
            "                      WITH m, type(r) as type, t.name+\" : \"+t.summary as names\n",
            "                      WITH m, type+\": \"+reduce(s=\"\", n IN names | s + n + \", \") as types\n",
            "                      WITH m, collect(types) as contexts\n",
            "                      WITH m, \"type:\" + labels(m)[0] + \"\n",
            "title: \"+ m.name + \"\n",
            "summary: \"+ m.summary\n",
            "                            +\"\n",
            "\" +\n",
            "                            reduce(s=\"\", c in contexts | s + substring(c, 0, size(c)-2) +\"\n",
            "\") as context\n",
            "                      RETURN context LIMIT 1\n",
            "                      \n",
            "\n",
            "Parameters: {'candidate': 'Emil Eifrem', 'relationship': 'HAS_CEO'}\n",
            "Context: [{'context': 'type:Person\\ntitle: Emil Eifrem\\nsummary: CEO at Neo4j\\nHAS_CEO: Neo4j : Software company based in San Mateo, California, United States\\n'}]\n",
            "\u001b[36;1m\u001b[1;3mtype:Person\n",
            "title: Emil Eifrem\n",
            "summary: CEO at Neo4j\n",
            "HAS_CEO: Neo4j : Software company based in San Mateo, California, United States\n",
            "\u001b[0m\u001b[32;1m\u001b[1;3mThought: Now that I know Emil Eifrem is the CEO of Neo4j, I can look for recent positive news about Neo4j.\n",
            "\n",
            "Action:\n",
            "```json\n",
            "{\n",
            "    \"action\": \"NewsInformation\",\n",
            "    \"action_input\": {\n",
            "        \"organization\": \"Neo4j\",\n",
            "        \"sentiment\": \"positive\"\n",
            "    }\n",
            "}\n",
            "```\u001b[0mCypher: CYPHER runtime = parallel parallelRuntimeSupport=all MATCH (c:Chunk)<-[:HAS_CHUNK]-(a:Article) WHERE EXISTS {(a)-[:MENTIONS]->(:Organization {name: $organization})} AND a.sentiment > $sentiment WITH c, a ORDER BY a.date DESC LIMIT toInteger($k) RETURN '#title ' + a.title + '\n",
            "#date ' + toString(a.date) + '\n",
            "#text ' + c.text AS output\n",
            "\n",
            "Parameters: {'k': 5, 'organization': 'Neo4j', 'sentiment': 0.5}\n",
            "\u001b[33;1m\u001b[1;3m#title Neo4j Announces New Product Integrations with Generative AI Features in Google Cloud Vertex AI\n",
            "#date 2023-06-07T13:00:00Z\n",
            "#text 's partnership with Google represents a powerful union of graph technology and cloud computing excellence in a new era of AI,\" said Emil Eifrem, Co-Founder and CEO, Neo4j. \"Together, we empower enterprises seeking to leverage generative AI to better innovate, provide the best outcome for their customers, and unlock the true power of their connected data at unprecedented speed.\"\n",
            "About Neo4j\n",
            "Neo4j, the Graph Database & Analytics leader, helps organizations find hidden relationships and patterns across billions of data connections deeply, easily and quickly. Customers leverage the structure of their connected data to reveal new ways of solving their most pressing business problems, from fraud detection, customer 360, knowledge graphs, supply chain, personalization, IoT, network management, and more – even as their data grows. Neo4j's full graph stack delivers powerful native graph storage, data science, advanced analytics, and visualization, with enterprise-grade security controls, scalable architecture and ACID compliance. Neo4j's community of data leaders comprises a vibrant, open-source community of more than 250,000 developers, data scientists, and architects across hundreds of Fortune 500 companies, government agencies and NGOs. Visit neo4j.com.\n",
            "Contact:\n",
            "pr@neo4j.com\n",
            "neo4j.com/pr\n",
            "© 2022 Neo4j, Inc., Neo Technology®, Neo4j®, Cypher®, Neo4j® Bloom™, Neo4j Graph Data Science Library™, Neo4j® Aura™, Neo4j® AuraDS™, and Neo4j® AuraDB™ are registered trademarks or a trademark of Neo4j, Inc. All other marks are owned by their respective companies.\n",
            "SOURCE Neo4j###Article: #title Neo4j Announces New Product Integrations with Generative AI Features in Google Cloud Vertex AI\n",
            "#date 2023-06-07T13:00:00Z\n",
            "#text Enterprise customers can now leverage knowledge graphs with Google's large language models to make generative AI outcomes more accurate, transparent, and explainable\n",
            "SAN MATEO, Calif., June 7, 2023 /CNW/ -- Neo4j®, the world's leading graph database and analytics company, announced a new product integration with Google Cloud's latest generative AI features in Vertex AI, Google's leading large language model (LLM) platform. The result empowers enterprise customers to harness knowledge graphs built on Neo4j's fully managed cloud offerings in Google Cloud Platform for generative AI insights and recommendations that are more accurate, transparent, and explainable.\n",
            "Neo4j's graph database and analytics capabilities can be used to create knowledge graphs, which capture relationships between entities, enabling AI systems to reason, infer, and retrieve relevant information effectively. The result ensures more accurate, explainable, and transparent outcomes for large language models (LLMs) and other generative AI systems.\n",
            "Specific integrations with Google's generative AI capabilities in Vertex AI enable enterprise customers to:\n",
            "Leverage natural language to interact with knowledge graphs: Vertex AI's generative AI capabilities can be used to provide a natural language interface to the knowledge graph. In this case, Cypher query language statements are generated from user input and used to query the database. This allows non-technical users unfamiliar with database query languages to access the knowledge graph. We will soon provide this capability to existing dashboarding and other user tools that are already used by most Neo4j customers.\n",
            "Transform unstructured data into knowledge graphs: Developers can leverage new generative AI capabilities in Vertex AI to process unstructured data, structure it, and load it into a knowledge graph. Once in a knowledge graph, users extract insights leveraging Neo4j data visualization and query tools such as Bloom for business intelligence (BI) and Neo4j Graph Data Science.\n",
            "Real-time GenAI enrichment: Neo4j databases now have the ability to call Vertex AI services in real-time to enrich knowledge graphs. The input to a generative model can be augmented from structured sources like knowledge graphs as requested context for guiding the model processing. The response can be post-processed for result verification, guard-railing, and enriched for correctly generated semantic entities.\n",
            "Support for vector embeddings: Neo4j can be leveraged to provide long-term memory for large language models through support of vector embeddings. Neo4j's Graph Data Science supports more than 60 algorithms, including efficient (approximate) nearest neighbor graphs and cosine similarity on embedding vectors to perform similarity searches. This, along with Vertex AI embedding APIs, can be a powerful tool for enterprises to reduce costs and build intelligent applications.\n",
            "Grounding with knowledge graphs: Grounding is the ability of enterprise customers to validate responses received from large language models against enterprise knowledge graphs. This will avoid hallucinations and provide confidence to users in the results received. Developers can use LangChain along with Neo4j-based knowledge graphs to enable grounding use cases.\n",
            "Long-standing strategic partnership since 2019\n",
            "Google Cloud and Neo4j launched their strategic partnership in 2019. Hundreds of large enterprises and SMBs have leveraged Neo4j on Google Cloud for AI use cases ranging from anti-money laundering to personalized recommendations, supply chain management, natural language generation, molecular design, digital twinning, and more.\n",
            "\"Businesses are undergoing data- and AI-driven transformations at an unprecedented rate,\" said Nenshad Bardoliwalla, Director of Product Management for Vertex AI, Google Cloud. \"These new integrations between Neo4j and Vertex AI will help businesses create more value and impact with their data and LLMs through capabilities like real-time enrichments and grounding, pattern identification in large datasets, and new abilities to explore their data with natural language.\"\n",
            "\"Neo4j's partnership with Google represents a powerful union of graph technology and cloud computing excellence in a new era of AI,\" said Emil Eifrem, Co-Founder and CEO, Neo4j. \"Together, we empower enterprises seeking to leverage generative AI to better innovate, provide the best outcome for their customers, and unlock the true power of their connected data at unprecedented speed.\"\n",
            "About Neo4j\n",
            "Neo4j, the Graph Database & Analytics leader, helps organizations find hidden relationships and patterns across billions of data connections deeply, easily and quickly. Customers leverage the structure of their connected data to reveal new ways of solving their most pressing business problems, from fraud detection, customer 360, knowledge graphs, supply chain, personalization, IoT, network management, and more – even as their data grows. Neo4j's full graph stack delivers powerful native graph storage, data science, advanced analytics, and visualization, with enterprise-grade security controls, scalable architecture and ACID compliance. Neo4j's###Article: #title Neo4j Announces New Product Integrations with Generative AI Features in Google Cloud Vertex AI\n",
            "#date 2023-06-07T13:00:00Z\n",
            "#text  with Google represents a powerful union of graph technology and cloud computing excellence in a new era of AI,\" said Emil Eifrem, Co-Founder and CEO, Neo4j. \"Together, we empower enterprises seeking to leverage generative AI to better innovate, provide the best outcome for their customers, and unlock the true power of their connected data at unprecedented speed.\"\n",
            "About Neo4j\n",
            "Neo4j, the Graph Database & Analytics leader, helps organizations find hidden relationships and patterns across billions of data connections deeply, easily and quickly. Customers leverage the structure of their connected data to reveal new ways of solving their most pressing business problems, from fraud detection, customer 360, knowledge graphs, supply chain, personalization, IoT, network management, and more – even as their data grows. Neo4j's full graph stack delivers powerful native graph storage, data science, advanced analytics, and visualization, with enterprise-grade security controls, scalable architecture and ACID compliance. Neo4j's community of data leaders comprises a vibrant, open-source community of more than 250,000 developers, data scientists, and architects across hundreds of Fortune 500 companies, government agencies and NGOs. Visit neo4j.com.\n",
            "Contact:\n",
            "pr@neo4j.com\n",
            "neo4j.com/pr\n",
            "© 2022 Neo4j, Inc., Neo Technology®, Neo4j®, Cypher®, Neo4j® Bloom™, Neo4j Graph Data Science Library™, Neo4j® Aura™, Neo4j® AuraDS™, and Neo4j® AuraDB™ are registered trademarks or a trademark of Neo4j, Inc. All other marks are owned by their respective companies.\n",
            "SOURCE Neo4j###Article: #title Neo4j Announces New Product Integrations with Generative AI Features in Google Cloud Vertex AI\n",
            "#date 2023-06-07T13:00:00Z\n",
            "#text Enterprise customers can now leverage knowledge graphs with Google's large language models to make generative AI outcomes more accurate, transparent, and explainable\n",
            "SAN MATEO, Calif., June 7, 2023 /PRNewswire/ -- Neo4j®, the world's leading graph database and analytics company, announced a new product integration with Google Cloud's latest generative AI features in Vertex AI, Google's leading large language model (LLM) platform. The result empowers enterprise customers to harness knowledge graphs built on Neo4j's fully managed cloud offerings in Google Cloud Platform for generative AI insights and recommendations that are more accurate, transparent, and explainable.\n",
            "Neo4j's graph database and analytics capabilities can be used to create knowledge graphs, which capture relationships between entities, enabling AI systems to reason, infer, and retrieve relevant information effectively. The result ensures more accurate, explainable, and transparent outcomes for large language models (LLMs) and other generative AI systems.\n",
            "Specific integrations with Google's generative AI capabilities in Vertex AI enable enterprise customers to:\n",
            "Leverage natural language to interact with knowledge graphs: Vertex AI's generative AI capabilities can be used to provide a natural language interface to the knowledge graph. In this case, Cypher query language statements are generated from user input and used to query the database. This allows non-technical users unfamiliar with database query languages to access the knowledge graph. We will soon provide this capability to existing dashboarding and other user tools that are already used by most Neo4j customers.\n",
            "Transform unstructured data into knowledge graphs: Developers can leverage new generative AI capabilities in Vertex AI to process unstructured data, structure it, and load it into a knowledge graph. Once in a knowledge graph, users extract insights leveraging Neo4j data visualization and query tools such as Bloom for business intelligence (BI) and Neo4j Graph Data Science.\n",
            "Real-time GenAI enrichment: Neo4j databases now have the ability to call Vertex AI services in real-time to enrich knowledge graphs. The input to a generative model can be augmented from structured sources like knowledge graphs as requested context for guiding the model processing. The response can be post-processed for result verification, guard-railing, and enriched for correctly generated semantic entities.\n",
            "Support for vector embeddings: Neo4j can be leveraged to provide long-term memory for large language models through support of vector embeddings. Neo4j's Graph Data Science supports more than 60 algorithms, including efficient (approximate) nearest neighbor graphs and cosine similarity on embedding vectors to perform similarity searches. This, along with Vertex AI embedding APIs, can be a powerful tool for enterprises to reduce costs and build intelligent applications.\n",
            "Grounding with knowledge graphs: Grounding is the ability of enterprise customers to validate responses received from large language models against enterprise knowledge graphs. This will avoid hallucinations and provide confidence to users in the results received. Developers can use LangChain along with Neo4j-based knowledge graphs to enable grounding use cases.\n",
            "Long-standing strategic partnership since 2019\n",
            "Google Cloud and Neo4j launched their strategic partnership in 2019. Hundreds of large enterprises and SMBs have leveraged Neo4j on Google Cloud for AI use cases ranging from anti-money laundering to personalized recommendations, supply chain management, natural language generation, molecular design, digital twinning, and more.\n",
            "\"Businesses are undergoing data- and AI-driven transformations at an unprecedented rate,\" said Nenshad Bardoliwalla, Director of Product Management for Vertex AI, Google Cloud. \"These new integrations between Neo4j and Vertex AI will help businesses create more value and impact with their data and LLMs through capabilities like real-time enrichments and grounding, pattern identification in large datasets, and new abilities to explore their data with natural language.\"\n",
            "\"Neo4j's partnership with Google represents a powerful union of graph technology and cloud computing excellence in a new era of AI,\" said Emil Eifrem, Co-Founder and CEO, Neo4j. \"Together, we empower enterprises seeking to leverage generative AI to better innovate, provide the best outcome for their customers, and unlock the true power of their connected data at unprecedented speed.\"\n",
            "About Neo4j\n",
            "Neo4j, the Graph Database & Analytics leader, helps organizations find hidden relationships and patterns across billions of data connections deeply, easily and quickly. Customers leverage the structure of their connected data to reveal new ways of solving their most pressing business problems, from fraud detection, customer 360, knowledge graphs, supply chain, personalization, IoT, network management, and more – even as their data grows. Neo4j's full graph stack delivers powerful native graph storage, data science, advanced analytics, and visualization, with enterprise-grade security controls, scalable architecture and ACID compliance. Neo4###Article: #title DXC Technology snags award at Neo4j GraphSummit Australia\n",
            "#date 2023-05-09T03:05:00Z\n",
            "#text Graph database and analytics company Neo4j announced the winners of the 2023 Graphie Awards in Australia and New Zealand, where DXC Technology was awarded.\n",
            "Neo4j aimed to recognise organisations and individuals for “outstanding innovation in implementing Neo4j’s graph technology.”\n",
            "The awards ceremony was held during the 2023 GraphSummit Australia in Sydney, Canberra and Melbourne from 3 to 9 May.\n",
            "The successful entrants were selected based on their exemplary use of graph technology to address the most significant enterprise challenges.\n",
            "IT provider DXC technology was awarded for its Excellence in Data Driven Career Development.\n",
            "GraphSummit also featured key Neo4j community leaders and local customers showcasing the most promising applications of graph technology in their respective fields.\n",
            "This included DXC Technology’s human experience management and workforce management data analytics Michele Howard.\n",
            "Others acknowledged included GraphAware’s general manager ANZ Dan Newland and InterVenn BioSciences manager Matthew Campbel.\n",
            "Neo4j general manager ANZ Peter Philipp said: “we are excited to celebrate these exceptional organisations who are successfully tackling the complexities of digital ecosystems with graph technology.”\n",
            "“It was a challenge to select the winners from an impressive list of finalists – we can’t wait to see them further excel with Neo4j playing a pivotal role,” he added.\u001b[0m"
          ]
        }
      ]
    }
  ],
  "metadata": {
    "colab": {
      "provenance": [],
      "include_colab_link": true
    },
    "kernelspec": {
      "display_name": "Python 3",
      "name": "python3"
    },
    "language_info": {
      "name": "python"
    },
    "widgets": {
      "application/vnd.jupyter.widget-state+json": {
        "0b0b9f91ac1847f499c1edb1a9ed9a99": {
          "model_module": "yfiles-jupyter-graphs",
          "model_name": "GraphModel",
          "model_module_version": "^1.7.1",
          "state": {
            "_context_pane_mapping": [
              {
                "id": "Neighborhood",
                "title": "Neighborhood"
              },
              {
                "id": "Data",
                "title": "Data"
              },
              {
                "id": "Search",
                "title": "Search"
              },
              {
                "id": "About",
                "title": "About"
              }
            ],
            "_data_importer": "neo4j",
            "_directed": true,
            "_dom_classes": [],
            "_edges": [
              {
                "id": 0,
                "start": 4751,
                "end": 4926,
                "properties": {
                  "label": "HAS_SUPPLIER"
                },
                "label": "HAS_SUPPLIER",
                "color": "#4CAF50",
                "thickness_factor": 1,
                "directed": true
              },
              {
                "id": 1,
                "start": 4751,
                "end": 4927,
                "properties": {
                  "label": "HAS_SUPPLIER"
                },
                "label": "HAS_SUPPLIER",
                "color": "#4CAF50",
                "thickness_factor": 1,
                "directed": true
              },
              {
                "id": 2,
                "start": 4751,
                "end": 4928,
                "properties": {
                  "label": "HAS_SUPPLIER"
                },
                "label": "HAS_SUPPLIER",
                "color": "#4CAF50",
                "thickness_factor": 1,
                "directed": true
              },
              {
                "id": 3,
                "start": 4751,
                "end": 4929,
                "properties": {
                  "label": "HAS_SUPPLIER"
                },
                "label": "HAS_SUPPLIER",
                "color": "#4CAF50",
                "thickness_factor": 1,
                "directed": true
              },
              {
                "id": 4,
                "start": 4751,
                "end": 4930,
                "properties": {
                  "label": "HAS_SUPPLIER"
                },
                "label": "HAS_SUPPLIER",
                "color": "#4CAF50",
                "thickness_factor": 1,
                "directed": true
              },
              {
                "id": 5,
                "start": 4751,
                "end": 4931,
                "properties": {
                  "label": "HAS_SUPPLIER"
                },
                "label": "HAS_SUPPLIER",
                "color": "#4CAF50",
                "thickness_factor": 1,
                "directed": true
              },
              {
                "id": 6,
                "start": 4751,
                "end": 4932,
                "properties": {
                  "label": "HAS_SUPPLIER"
                },
                "label": "HAS_SUPPLIER",
                "color": "#4CAF50",
                "thickness_factor": 1,
                "directed": true
              },
              {
                "id": 7,
                "start": 4751,
                "end": 4933,
                "properties": {
                  "label": "HAS_SUPPLIER"
                },
                "label": "HAS_SUPPLIER",
                "color": "#4CAF50",
                "thickness_factor": 1,
                "directed": true
              },
              {
                "id": 8,
                "start": 4751,
                "end": 4934,
                "properties": {
                  "label": "HAS_SUPPLIER"
                },
                "label": "HAS_SUPPLIER",
                "color": "#4CAF50",
                "thickness_factor": 1,
                "directed": true
              },
              {
                "id": 9,
                "start": 4751,
                "end": 4935,
                "properties": {
                  "label": "HAS_SUPPLIER"
                },
                "label": "HAS_SUPPLIER",
                "color": "#4CAF50",
                "thickness_factor": 1,
                "directed": true
              },
              {
                "id": 10,
                "start": 4751,
                "end": 4936,
                "properties": {
                  "label": "HAS_SUPPLIER"
                },
                "label": "HAS_SUPPLIER",
                "color": "#4CAF50",
                "thickness_factor": 1,
                "directed": true
              },
              {
                "id": 11,
                "start": 4751,
                "end": 4937,
                "properties": {
                  "label": "HAS_SUPPLIER"
                },
                "label": "HAS_SUPPLIER",
                "color": "#4CAF50",
                "thickness_factor": 1,
                "directed": true
              },
              {
                "id": 12,
                "start": 4751,
                "end": 4938,
                "properties": {
                  "label": "HAS_SUPPLIER"
                },
                "label": "HAS_SUPPLIER",
                "color": "#4CAF50",
                "thickness_factor": 1,
                "directed": true
              },
              {
                "id": 13,
                "start": 4751,
                "end": 1722,
                "properties": {
                  "label": "HAS_SUPPLIER"
                },
                "label": "HAS_SUPPLIER",
                "color": "#4CAF50",
                "thickness_factor": 1,
                "directed": true
              },
              {
                "id": 14,
                "start": 4751,
                "end": 2600,
                "properties": {
                  "label": "HAS_SUPPLIER"
                },
                "label": "HAS_SUPPLIER",
                "color": "#4CAF50",
                "thickness_factor": 1,
                "directed": true
              },
              {
                "id": 15,
                "start": 4751,
                "end": 4939,
                "properties": {
                  "label": "HAS_SUPPLIER"
                },
                "label": "HAS_SUPPLIER",
                "color": "#4CAF50",
                "thickness_factor": 1,
                "directed": true
              },
              {
                "id": 16,
                "start": 4751,
                "end": 3414,
                "properties": {
                  "label": "HAS_SUPPLIER"
                },
                "label": "HAS_SUPPLIER",
                "color": "#4CAF50",
                "thickness_factor": 1,
                "directed": true
              },
              {
                "id": 17,
                "start": 4751,
                "end": 960,
                "properties": {
                  "label": "HAS_SUPPLIER"
                },
                "label": "HAS_SUPPLIER",
                "color": "#4CAF50",
                "thickness_factor": 1,
                "directed": true
              },
              {
                "id": 18,
                "start": 4751,
                "end": 4940,
                "properties": {
                  "label": "HAS_SUPPLIER"
                },
                "label": "HAS_SUPPLIER",
                "color": "#4CAF50",
                "thickness_factor": 1,
                "directed": true
              },
              {
                "id": 19,
                "start": 4751,
                "end": 4941,
                "properties": {
                  "label": "HAS_SUPPLIER"
                },
                "label": "HAS_SUPPLIER",
                "color": "#4CAF50",
                "thickness_factor": 1,
                "directed": true
              },
              {
                "id": 20,
                "start": 4751,
                "end": 3233,
                "properties": {
                  "label": "HAS_SUPPLIER"
                },
                "label": "HAS_SUPPLIER",
                "color": "#4CAF50",
                "thickness_factor": 1,
                "directed": true
              },
              {
                "id": 21,
                "start": 4751,
                "end": 4942,
                "properties": {
                  "label": "HAS_SUPPLIER"
                },
                "label": "HAS_SUPPLIER",
                "color": "#4CAF50",
                "thickness_factor": 1,
                "directed": true
              },
              {
                "id": 22,
                "start": 4751,
                "end": 2608,
                "properties": {
                  "label": "HAS_SUPPLIER"
                },
                "label": "HAS_SUPPLIER",
                "color": "#4CAF50",
                "thickness_factor": 1,
                "directed": true
              },
              {
                "id": 23,
                "start": 4751,
                "end": 3423,
                "properties": {
                  "label": "HAS_SUPPLIER"
                },
                "label": "HAS_SUPPLIER",
                "color": "#4CAF50",
                "thickness_factor": 1,
                "directed": true
              },
              {
                "id": 24,
                "start": 4751,
                "end": 4943,
                "properties": {
                  "label": "HAS_SUPPLIER"
                },
                "label": "HAS_SUPPLIER",
                "color": "#4CAF50",
                "thickness_factor": 1,
                "directed": true
              },
              {
                "id": 25,
                "start": 4751,
                "end": 1409,
                "properties": {
                  "label": "HAS_SUPPLIER"
                },
                "label": "HAS_SUPPLIER",
                "color": "#4CAF50",
                "thickness_factor": 1,
                "directed": true
              },
              {
                "id": 26,
                "start": 4751,
                "end": 4944,
                "properties": {
                  "label": "HAS_SUPPLIER"
                },
                "label": "HAS_SUPPLIER",
                "color": "#4CAF50",
                "thickness_factor": 1,
                "directed": true
              },
              {
                "id": 27,
                "start": 4751,
                "end": 4945,
                "properties": {
                  "label": "HAS_SUPPLIER"
                },
                "label": "HAS_SUPPLIER",
                "color": "#4CAF50",
                "thickness_factor": 1,
                "directed": true
              },
              {
                "id": 28,
                "start": 4751,
                "end": 4946,
                "properties": {
                  "label": "HAS_SUPPLIER"
                },
                "label": "HAS_SUPPLIER",
                "color": "#4CAF50",
                "thickness_factor": 1,
                "directed": true
              },
              {
                "id": 29,
                "start": 4751,
                "end": 4947,
                "properties": {
                  "label": "HAS_SUPPLIER"
                },
                "label": "HAS_SUPPLIER",
                "color": "#4CAF50",
                "thickness_factor": 1,
                "directed": true
              },
              {
                "id": 30,
                "start": 4751,
                "end": 2615,
                "properties": {
                  "label": "HAS_SUPPLIER"
                },
                "label": "HAS_SUPPLIER",
                "color": "#4CAF50",
                "thickness_factor": 1,
                "directed": true
              },
              {
                "id": 31,
                "start": 4751,
                "end": 4948,
                "properties": {
                  "label": "HAS_SUPPLIER"
                },
                "label": "HAS_SUPPLIER",
                "color": "#4CAF50",
                "thickness_factor": 1,
                "directed": true
              },
              {
                "id": 32,
                "start": 4751,
                "end": 4949,
                "properties": {
                  "label": "HAS_SUPPLIER"
                },
                "label": "HAS_SUPPLIER",
                "color": "#4CAF50",
                "thickness_factor": 1,
                "directed": true
              },
              {
                "id": 33,
                "start": 4751,
                "end": 4896,
                "properties": {
                  "label": "HAS_SUPPLIER"
                },
                "label": "HAS_SUPPLIER",
                "color": "#4CAF50",
                "thickness_factor": 1,
                "directed": true
              },
              {
                "id": 34,
                "start": 4751,
                "end": 4950,
                "properties": {
                  "label": "HAS_SUPPLIER"
                },
                "label": "HAS_SUPPLIER",
                "color": "#4CAF50",
                "thickness_factor": 1,
                "directed": true
              },
              {
                "id": 35,
                "start": 4751,
                "end": 4951,
                "properties": {
                  "label": "HAS_SUPPLIER"
                },
                "label": "HAS_SUPPLIER",
                "color": "#4CAF50",
                "thickness_factor": 1,
                "directed": true
              },
              {
                "id": 36,
                "start": 4751,
                "end": 4952,
                "properties": {
                  "label": "HAS_SUPPLIER"
                },
                "label": "HAS_SUPPLIER",
                "color": "#4CAF50",
                "thickness_factor": 1,
                "directed": true
              },
              {
                "id": 37,
                "start": 4751,
                "end": 4953,
                "properties": {
                  "label": "HAS_SUPPLIER"
                },
                "label": "HAS_SUPPLIER",
                "color": "#4CAF50",
                "thickness_factor": 1,
                "directed": true
              },
              {
                "id": 38,
                "start": 4751,
                "end": 4954,
                "properties": {
                  "label": "HAS_SUPPLIER"
                },
                "label": "HAS_SUPPLIER",
                "color": "#4CAF50",
                "thickness_factor": 1,
                "directed": true
              },
              {
                "id": 39,
                "start": 4751,
                "end": 4955,
                "properties": {
                  "label": "HAS_SUPPLIER"
                },
                "label": "HAS_SUPPLIER",
                "color": "#4CAF50",
                "thickness_factor": 1,
                "directed": true
              },
              {
                "id": 40,
                "start": 4751,
                "end": 4956,
                "properties": {
                  "label": "HAS_SUPPLIER"
                },
                "label": "HAS_SUPPLIER",
                "color": "#4CAF50",
                "thickness_factor": 1,
                "directed": true
              },
              {
                "id": 41,
                "start": 4751,
                "end": 2825,
                "properties": {
                  "label": "HAS_SUPPLIER"
                },
                "label": "HAS_SUPPLIER",
                "color": "#4CAF50",
                "thickness_factor": 1,
                "directed": true
              },
              {
                "id": 42,
                "start": 4751,
                "end": 4957,
                "properties": {
                  "label": "HAS_SUPPLIER"
                },
                "label": "HAS_SUPPLIER",
                "color": "#4CAF50",
                "thickness_factor": 1,
                "directed": true
              },
              {
                "id": 43,
                "start": 4751,
                "end": 2091,
                "properties": {
                  "label": "HAS_SUPPLIER"
                },
                "label": "HAS_SUPPLIER",
                "color": "#4CAF50",
                "thickness_factor": 1,
                "directed": true
              },
              {
                "id": 44,
                "start": 4751,
                "end": 4958,
                "properties": {
                  "label": "HAS_SUPPLIER"
                },
                "label": "HAS_SUPPLIER",
                "color": "#4CAF50",
                "thickness_factor": 1,
                "directed": true
              },
              {
                "id": 45,
                "start": 4751,
                "end": 4959,
                "properties": {
                  "label": "HAS_SUPPLIER"
                },
                "label": "HAS_SUPPLIER",
                "color": "#4CAF50",
                "thickness_factor": 1,
                "directed": true
              },
              {
                "id": 46,
                "start": 4751,
                "end": 4960,
                "properties": {
                  "label": "HAS_SUPPLIER"
                },
                "label": "HAS_SUPPLIER",
                "color": "#4CAF50",
                "thickness_factor": 1,
                "directed": true
              },
              {
                "id": 47,
                "start": 4751,
                "end": 4961,
                "properties": {
                  "label": "HAS_SUPPLIER"
                },
                "label": "HAS_SUPPLIER",
                "color": "#4CAF50",
                "thickness_factor": 1,
                "directed": true
              },
              {
                "id": 48,
                "start": 4751,
                "end": 4962,
                "properties": {
                  "label": "HAS_SUPPLIER"
                },
                "label": "HAS_SUPPLIER",
                "color": "#4CAF50",
                "thickness_factor": 1,
                "directed": true
              },
              {
                "id": 49,
                "start": 4751,
                "end": 4963,
                "properties": {
                  "label": "HAS_SUPPLIER"
                },
                "label": "HAS_SUPPLIER",
                "color": "#4CAF50",
                "thickness_factor": 1,
                "directed": true
              }
            ],
            "_graph_layout": {},
            "_highlight": [],
            "_license": {},
            "_model_module": "yfiles-jupyter-graphs",
            "_model_module_version": "^1.7.1",
            "_model_name": "GraphModel",
            "_neighborhood": {},
            "_nodes": [
              {
                "id": 4751,
                "properties": {
                  "summary": "American multinational conglomerate",
                  "name": "Honeywell International",
                  "id": "EyaWYVSuKNv-zPUrbraQgow",
                  "label": "Organization"
                },
                "color": "#2196F3",
                "styles": {},
                "label": "Organization",
                "scale_factor": 1,
                "type": "#2196F3",
                "size": [
                  55,
                  55
                ],
                "position": [
                  0,
                  0
                ]
              },
              {
                "id": 4926,
                "properties": {
                  "name": "Vector Software",
                  "id": "Eo7xs7VL3NJmzIsRdbV5jYA",
                  "label": "Organization"
                },
                "color": "#2196F3",
                "styles": {},
                "label": "Organization",
                "scale_factor": 1,
                "type": "#2196F3",
                "size": [
                  55,
                  55
                ],
                "position": [
                  0,
                  0
                ]
              },
              {
                "id": 4927,
                "properties": {
                  "summary": "American semiconductor manufacturer",
                  "name": "Skyworks Solutions",
                  "id": "EzY1DUFnTNYang87g0sX-2Q",
                  "label": "Organization"
                },
                "color": "#2196F3",
                "styles": {},
                "label": "Organization",
                "scale_factor": 1,
                "type": "#2196F3",
                "size": [
                  55,
                  55
                ],
                "position": [
                  0,
                  0
                ]
              },
              {
                "id": 4928,
                "properties": {
                  "name": "Nice Systems",
                  "id": "EsLssnhntPTqbf_OUYWJ5oQ",
                  "label": "Organization"
                },
                "color": "#2196F3",
                "styles": {},
                "label": "Organization",
                "scale_factor": 1,
                "type": "#2196F3",
                "size": [
                  55,
                  55
                ],
                "position": [
                  0,
                  0
                ]
              },
              {
                "id": 4929,
                "properties": {
                  "name": "Eurotec",
                  "id": "E64H2RgwmPdq3Y3JY3D5yUA",
                  "label": "Organization"
                },
                "color": "#2196F3",
                "styles": {},
                "label": "Organization",
                "scale_factor": 1,
                "type": "#2196F3",
                "size": [
                  55,
                  55
                ],
                "position": [
                  0,
                  0
                ]
              },
              {
                "id": 4930,
                "properties": {
                  "summary": "Software company based in San Jose, California, United States and owned by Vista Equity Partners",
                  "name": "Xactly",
                  "id": "E3lZVAk_KOpeQsRX4AS6F8w",
                  "label": "Organization"
                },
                "color": "#2196F3",
                "styles": {},
                "label": "Organization",
                "scale_factor": 1,
                "type": "#2196F3",
                "size": [
                  55,
                  55
                ],
                "position": [
                  0,
                  0
                ]
              },
              {
                "id": 4931,
                "properties": {
                  "name": "Star Digital",
                  "id": "EUQUNk62tMniaXXURh_00ZA",
                  "label": "Organization"
                },
                "color": "#2196F3",
                "styles": {},
                "label": "Organization",
                "scale_factor": 1,
                "type": "#2196F3",
                "size": [
                  55,
                  55
                ],
                "position": [
                  0,
                  0
                ]
              },
              {
                "id": 4932,
                "properties": {
                  "name": "Rebel Interactive Group",
                  "id": "E-OjpfDgkNkCYDwcbH99gag",
                  "label": "Organization"
                },
                "color": "#2196F3",
                "styles": {},
                "label": "Organization",
                "scale_factor": 1,
                "type": "#2196F3",
                "size": [
                  55,
                  55
                ],
                "position": [
                  0,
                  0
                ]
              },
              {
                "id": 4933,
                "properties": {
                  "name": "Bonfire Labs",
                  "id": "E1d02xq-_Psu9I0IKXpO7iA",
                  "label": "Organization"
                },
                "color": "#2196F3",
                "styles": {},
                "label": "Organization",
                "scale_factor": 1,
                "type": "#2196F3",
                "size": [
                  55,
                  55
                ],
                "position": [
                  0,
                  0
                ]
              },
              {
                "id": 4934,
                "properties": {
                  "name": "Teague",
                  "id": "EsJZGWb41Mk21MmStjHJSHw",
                  "label": "Organization"
                },
                "color": "#2196F3",
                "styles": {},
                "label": "Organization",
                "scale_factor": 1,
                "type": "#2196F3",
                "size": [
                  55,
                  55
                ],
                "position": [
                  0,
                  0
                ]
              },
              {
                "id": 4935,
                "properties": {
                  "summary": "Software company headquartered in San Francisco, CA.",
                  "name": "Trifacta",
                  "id": "EWIvDLNCSMCCBYUyz0oFPVQ",
                  "label": "Organization"
                },
                "color": "#2196F3",
                "styles": {},
                "label": "Organization",
                "scale_factor": 1,
                "type": "#2196F3",
                "size": [
                  55,
                  55
                ],
                "position": [
                  0,
                  0
                ]
              },
              {
                "id": 4936,
                "properties": {
                  "summary": "Former American mass media company",
                  "name": "Viacom Inc.",
                  "id": "EGGY9c5DHNwK5V9sTCoUw7g",
                  "label": "Organization"
                },
                "color": "#2196F3",
                "styles": {},
                "label": "Organization",
                "scale_factor": 1,
                "type": "#2196F3",
                "size": [
                  55,
                  55
                ],
                "position": [
                  0,
                  0
                ]
              },
              {
                "id": 4937,
                "properties": {
                  "name": "ASDAM",
                  "id": "EW9SMAA9hPvic4kbw4fAKrw",
                  "label": "Organization"
                },
                "color": "#2196F3",
                "styles": {},
                "label": "Organization",
                "scale_factor": 1,
                "type": "#2196F3",
                "size": [
                  55,
                  55
                ],
                "position": [
                  0,
                  0
                ]
              },
              {
                "id": 4938,
                "properties": {
                  "name": "Showpad",
                  "id": "EMDpUUzU2ODOTD9fGRVb2LQ",
                  "label": "Organization"
                },
                "color": "#2196F3",
                "styles": {},
                "label": "Organization",
                "scale_factor": 1,
                "type": "#2196F3",
                "size": [
                  55,
                  55
                ],
                "position": [
                  0,
                  0
                ]
              },
              {
                "id": 1722,
                "properties": {
                  "summary": "Software company",
                  "name": "Automation Anywhere",
                  "id": "EoYF4yo3bPZWO26oPKpRawg",
                  "label": "Organization"
                },
                "color": "#2196F3",
                "styles": {},
                "label": "Organization",
                "scale_factor": 1,
                "type": "#2196F3",
                "size": [
                  55,
                  55
                ],
                "position": [
                  0,
                  0
                ]
              },
              {
                "id": 2600,
                "properties": {
                  "name": "netexam",
                  "id": "E9ItRf-DHOkSHObYTNaMk-g",
                  "label": "Organization"
                },
                "color": "#2196F3",
                "styles": {},
                "label": "Organization",
                "scale_factor": 1,
                "type": "#2196F3",
                "size": [
                  55,
                  55
                ],
                "position": [
                  0,
                  0
                ]
              },
              {
                "id": 4939,
                "properties": {
                  "name": "Aequs",
                  "id": "ENrULMLuYPHSm-hSD9Ug24Q",
                  "label": "Organization"
                },
                "color": "#2196F3",
                "styles": {},
                "label": "Organization",
                "scale_factor": 1,
                "type": "#2196F3",
                "size": [
                  55,
                  55
                ],
                "position": [
                  0,
                  0
                ]
              },
              {
                "id": 3414,
                "properties": {
                  "name": "Vendavo",
                  "id": "EXLCtLuSWNYiFx1SpEoRfIA",
                  "label": "Organization"
                },
                "color": "#2196F3",
                "styles": {},
                "label": "Organization",
                "scale_factor": 1,
                "type": "#2196F3",
                "size": [
                  55,
                  55
                ],
                "position": [
                  0,
                  0
                ]
              },
              {
                "id": 960,
                "properties": {
                  "summary": "Software company based in Redmond, Washington, United States and owned by Microsoft",
                  "revenue": 130000000,
                  "isDissolved": false,
                  "nbrEmployees": 600,
                  "name": "Microsoft Azure",
                  "motto": "",
                  "isPublic": false,
                  "id": "Ex-8zdY5WMQiVtj-ldIcGcQ",
                  "label": "Organization"
                },
                "color": "#2196F3",
                "styles": {},
                "label": "Organization",
                "scale_factor": 1,
                "type": "#2196F3",
                "size": [
                  55,
                  55
                ],
                "position": [
                  0,
                  0
                ]
              },
              {
                "id": 4940,
                "properties": {
                  "summary": "Communications corporation",
                  "name": "Microsemi",
                  "id": "EgtXOU4GjMSuesdkX0nz_Qg",
                  "label": "Organization"
                },
                "color": "#2196F3",
                "styles": {},
                "label": "Organization",
                "scale_factor": 1,
                "type": "#2196F3",
                "size": [
                  55,
                  55
                ],
                "position": [
                  0,
                  0
                ]
              },
              {
                "id": 4941,
                "properties": {
                  "name": "Danfoss",
                  "id": "ErOteUmveMqWAyRhW4G5gDQ",
                  "label": "Organization"
                },
                "color": "#2196F3",
                "styles": {},
                "label": "Organization",
                "scale_factor": 1,
                "type": "#2196F3",
                "size": [
                  55,
                  55
                ],
                "position": [
                  0,
                  0
                ]
              },
              {
                "id": 3233,
                "properties": {
                  "summary": "Organization based in London, United Kingdom",
                  "name": "McDonald Butler",
                  "id": "ElKDAlb3mNxSSqTNMYJHXBg",
                  "label": "Organization"
                },
                "color": "#2196F3",
                "styles": {},
                "label": "Organization",
                "scale_factor": 1,
                "type": "#2196F3",
                "size": [
                  55,
                  55
                ],
                "position": [
                  0,
                  0
                ]
              },
              {
                "id": 4942,
                "properties": {
                  "name": "NTE",
                  "id": "ELB8sVCBsPiqQyR23g_wP5A",
                  "label": "Organization"
                },
                "color": "#2196F3",
                "styles": {},
                "label": "Organization",
                "scale_factor": 1,
                "type": "#2196F3",
                "size": [
                  55,
                  55
                ],
                "position": [
                  0,
                  0
                ]
              },
              {
                "id": 2608,
                "properties": {
                  "summary": "Software company based in Minneapolis, Minnesota, United States and owned by HGGC",
                  "name": "FPX",
                  "id": "EgfEJlg6iPLWpsQxGCPQzsg",
                  "label": "Organization"
                },
                "color": "#2196F3",
                "styles": {},
                "label": "Organization",
                "scale_factor": 1,
                "type": "#2196F3",
                "size": [
                  55,
                  55
                ],
                "position": [
                  0,
                  0
                ]
              },
              {
                "id": 3423,
                "properties": {
                  "name": "Amtel",
                  "id": "EhfswOv9-NRqIKOjpVKtgxg",
                  "label": "Organization"
                },
                "color": "#2196F3",
                "styles": {},
                "label": "Organization",
                "scale_factor": 1,
                "type": "#2196F3",
                "size": [
                  55,
                  55
                ],
                "position": [
                  0,
                  0
                ]
              },
              {
                "id": 4943,
                "properties": {
                  "name": "GKN",
                  "id": "EfrIiMnkINhGhhAXCxeG-jA",
                  "label": "Organization"
                },
                "color": "#2196F3",
                "styles": {},
                "label": "Organization",
                "scale_factor": 1,
                "type": "#2196F3",
                "size": [
                  55,
                  55
                ],
                "position": [
                  0,
                  0
                ]
              },
              {
                "id": 1409,
                "properties": {
                  "name": "Cimtek",
                  "id": "EHls5lkfWPASP34D7G0GS2w",
                  "label": "Organization"
                },
                "color": "#2196F3",
                "styles": {},
                "label": "Organization",
                "scale_factor": 1,
                "type": "#2196F3",
                "size": [
                  55,
                  55
                ],
                "position": [
                  0,
                  0
                ]
              },
              {
                "id": 4944,
                "properties": {
                  "summary": "Software company based in Seattle, Washington, United States and owned by Salesforce",
                  "name": "Tableau Software",
                  "id": "E9jflqbVOPcq9ZfgHhY63Rg",
                  "label": "Organization"
                },
                "color": "#2196F3",
                "styles": {},
                "label": "Organization",
                "scale_factor": 1,
                "type": "#2196F3",
                "size": [
                  55,
                  55
                ],
                "position": [
                  0,
                  0
                ]
              },
              {
                "id": 4945,
                "properties": {
                  "name": "The TAS Group",
                  "id": "EUamrFN68PvWGX0YjeIndMA",
                  "label": "Organization"
                },
                "color": "#2196F3",
                "styles": {},
                "label": "Organization",
                "scale_factor": 1,
                "type": "#2196F3",
                "size": [
                  55,
                  55
                ],
                "position": [
                  0,
                  0
                ]
              },
              {
                "id": 4946,
                "properties": {
                  "name": "Morf3D",
                  "id": "EdgHJtDTGN3KWh7NsyreMzQ",
                  "label": "Organization"
                },
                "color": "#2196F3",
                "styles": {},
                "label": "Organization",
                "scale_factor": 1,
                "type": "#2196F3",
                "size": [
                  55,
                  55
                ],
                "position": [
                  0,
                  0
                ]
              },
              {
                "id": 4947,
                "properties": {
                  "name": "Ascendle",
                  "id": "Ei-zucG42PwiwRMLkAiC7Rg",
                  "label": "Organization"
                },
                "color": "#2196F3",
                "styles": {},
                "label": "Organization",
                "scale_factor": 1,
                "type": "#2196F3",
                "size": [
                  55,
                  55
                ],
                "position": [
                  0,
                  0
                ]
              },
              {
                "id": 2615,
                "properties": {
                  "name": "Tracorp",
                  "id": "E5aSlT4O8MTKDi0Yh5AK2Rw",
                  "label": "Organization"
                },
                "color": "#2196F3",
                "styles": {},
                "label": "Organization",
                "scale_factor": 1,
                "type": "#2196F3",
                "size": [
                  55,
                  55
                ],
                "position": [
                  0,
                  0
                ]
              },
              {
                "id": 4948,
                "properties": {
                  "name": "Central Group",
                  "id": "EaNbTU6EIObGWNvwkaX0Mug",
                  "label": "Organization"
                },
                "color": "#2196F3",
                "styles": {},
                "label": "Organization",
                "scale_factor": 1,
                "type": "#2196F3",
                "size": [
                  55,
                  55
                ],
                "position": [
                  0,
                  0
                ]
              },
              {
                "id": 4949,
                "properties": {
                  "name": "Petronas",
                  "id": "Eu70mY-mXM5Wa45vk_vH_iw",
                  "label": "Organization"
                },
                "color": "#2196F3",
                "styles": {},
                "label": "Organization",
                "scale_factor": 1,
                "type": "#2196F3",
                "size": [
                  55,
                  55
                ],
                "position": [
                  0,
                  0
                ]
              },
              {
                "id": 4896,
                "properties": {
                  "summary": "Quantum computing company spun off from Honeywell",
                  "name": "Quantinuum",
                  "id": "EH7Sie6_XNmGfA2gBHGB5gA",
                  "label": "Organization"
                },
                "color": "#2196F3",
                "styles": {},
                "label": "Organization",
                "scale_factor": 1,
                "type": "#2196F3",
                "size": [
                  55,
                  55
                ],
                "position": [
                  0,
                  0
                ]
              },
              {
                "id": 4950,
                "properties": {
                  "name": "Concept9",
                  "id": "Ei6vBK3VfOh-_7fAz7DFJfg",
                  "label": "Organization"
                },
                "color": "#2196F3",
                "styles": {},
                "label": "Organization",
                "scale_factor": 1,
                "type": "#2196F3",
                "size": [
                  55,
                  55
                ],
                "position": [
                  0,
                  0
                ]
              },
              {
                "id": 4951,
                "properties": {
                  "summary": "Software company based in Campbell, California, United States and owned by McAfee",
                  "name": "Skyhigh Networks",
                  "id": "E29w20p-wMWG3n4YXIz614w",
                  "label": "Organization"
                },
                "color": "#2196F3",
                "styles": {},
                "label": "Organization",
                "scale_factor": 1,
                "type": "#2196F3",
                "size": [
                  55,
                  55
                ],
                "position": [
                  0,
                  0
                ]
              },
              {
                "id": 4952,
                "properties": {
                  "name": "Daptiv",
                  "id": "EJD32Fl2TNyiE8YypwsE8qg",
                  "label": "Organization"
                },
                "color": "#2196F3",
                "styles": {},
                "label": "Organization",
                "scale_factor": 1,
                "type": "#2196F3",
                "size": [
                  55,
                  55
                ],
                "position": [
                  0,
                  0
                ]
              },
              {
                "id": 4953,
                "properties": {
                  "name": "Elements.cloud",
                  "id": "ExRFRPG-lMg-AipVU6PMKiQ",
                  "label": "Organization"
                },
                "color": "#2196F3",
                "styles": {},
                "label": "Organization",
                "scale_factor": 1,
                "type": "#2196F3",
                "size": [
                  55,
                  55
                ],
                "position": [
                  0,
                  0
                ]
              },
              {
                "id": 4954,
                "properties": {
                  "summary": "German information technology company",
                  "name": "SYSGO",
                  "id": "ECAbQ2UkUNwKzRru4G5uyPw",
                  "label": "Organization"
                },
                "color": "#2196F3",
                "styles": {},
                "label": "Organization",
                "scale_factor": 1,
                "type": "#2196F3",
                "size": [
                  55,
                  55
                ],
                "position": [
                  0,
                  0
                ]
              },
              {
                "id": 4955,
                "properties": {
                  "name": "FieldCentrix",
                  "id": "E2HT0UDjyPKiekn-1hEI9-Q",
                  "label": "Organization"
                },
                "color": "#2196F3",
                "styles": {},
                "label": "Organization",
                "scale_factor": 1,
                "type": "#2196F3",
                "size": [
                  55,
                  55
                ],
                "position": [
                  0,
                  0
                ]
              },
              {
                "id": 4956,
                "properties": {
                  "name": "inEvidence",
                  "id": "EvBxKWkFcPLa6ErkzGEquXw",
                  "label": "Organization"
                },
                "color": "#2196F3",
                "styles": {},
                "label": "Organization",
                "scale_factor": 1,
                "type": "#2196F3",
                "size": [
                  55,
                  55
                ],
                "position": [
                  0,
                  0
                ]
              },
              {
                "id": 2825,
                "properties": {
                  "summary": "American multinational technology and consulting corporation",
                  "name": "IBM",
                  "id": "EPdsrDmLiMQCskvBLp_dloQ",
                  "label": "Organization"
                },
                "color": "#2196F3",
                "styles": {},
                "label": "Organization",
                "scale_factor": 1,
                "type": "#2196F3",
                "size": [
                  55,
                  55
                ],
                "position": [
                  0,
                  0
                ]
              },
              {
                "id": 4957,
                "properties": {
                  "name": "eMan",
                  "id": "EtYNPI7psOiCS3TQ-zxuhFQ",
                  "label": "Organization"
                },
                "color": "#2196F3",
                "styles": {},
                "label": "Organization",
                "scale_factor": 1,
                "type": "#2196F3",
                "size": [
                  55,
                  55
                ],
                "position": [
                  0,
                  0
                ]
              },
              {
                "id": 2091,
                "properties": {
                  "name": "ASE Group",
                  "id": "ECau7aQh9Of-kyuIElZ5aYw",
                  "label": "Organization"
                },
                "color": "#2196F3",
                "styles": {},
                "label": "Organization",
                "scale_factor": 1,
                "type": "#2196F3",
                "size": [
                  55,
                  55
                ],
                "position": [
                  0,
                  0
                ]
              },
              {
                "id": 4958,
                "properties": {
                  "summary": "Technology company in Redwood City, California",
                  "name": "Agiloft",
                  "id": "Eh_rr6DlqO2WRR-ObYjxDSg",
                  "label": "Organization"
                },
                "color": "#2196F3",
                "styles": {},
                "label": "Organization",
                "scale_factor": 1,
                "type": "#2196F3",
                "size": [
                  55,
                  55
                ],
                "position": [
                  0,
                  0
                ]
              },
              {
                "id": 4959,
                "properties": {
                  "name": "Nina Hale",
                  "id": "EnTkZ6WyKMwKpHDcuaYTPeQ",
                  "label": "Organization"
                },
                "color": "#2196F3",
                "styles": {},
                "label": "Organization",
                "scale_factor": 1,
                "type": "#2196F3",
                "size": [
                  55,
                  55
                ],
                "position": [
                  0,
                  0
                ]
              },
              {
                "id": 4960,
                "properties": {
                  "name": "Ryan Companies US",
                  "id": "EZSgVhrtAOGyiRzaEu4e9gg",
                  "label": "Organization"
                },
                "color": "#2196F3",
                "styles": {},
                "label": "Organization",
                "scale_factor": 1,
                "type": "#2196F3",
                "size": [
                  55,
                  55
                ],
                "position": [
                  0,
                  0
                ]
              },
              {
                "id": 4961,
                "properties": {
                  "name": "Manley Films",
                  "id": "ERm3faUCPPd-1s7B8_PEtOA",
                  "label": "Organization"
                },
                "color": "#2196F3",
                "styles": {},
                "label": "Organization",
                "scale_factor": 1,
                "type": "#2196F3",
                "size": [
                  55,
                  55
                ],
                "position": [
                  0,
                  0
                ]
              },
              {
                "id": 4962,
                "properties": {
                  "summary": "Software company based in San Jose, California, United States and owned by Google",
                  "name": "Apigee",
                  "id": "EAHSCRG21ODCH1xk3354mxA",
                  "label": "Organization"
                },
                "color": "#2196F3",
                "styles": {},
                "label": "Organization",
                "scale_factor": 1,
                "type": "#2196F3",
                "size": [
                  55,
                  55
                ],
                "position": [
                  0,
                  0
                ]
              },
              {
                "id": 4963,
                "properties": {
                  "name": "Spectrum Laser & Technologies",
                  "id": "EU7c0XUnaPcWJ8nsm5B6Guw",
                  "label": "Organization"
                },
                "color": "#2196F3",
                "styles": {},
                "label": "Organization",
                "scale_factor": 1,
                "type": "#2196F3",
                "size": [
                  55,
                  55
                ],
                "position": [
                  0,
                  0
                ]
              }
            ],
            "_overview": {
              "enabled": null,
              "overview_set": false
            },
            "_selected_graph": [
              [
                {
                  "id": 4751,
                  "properties": {
                    "summary": "American multinational conglomerate",
                    "name": "Honeywell International",
                    "id": "EyaWYVSuKNv-zPUrbraQgow",
                    "label": "Organization"
                  }
                }
              ],
              []
            ],
            "_sidebar": {
              "enabled": true,
              "start_with": "About"
            },
            "_view_count": null,
            "_view_module": "yfiles-jupyter-graphs",
            "_view_module_version": "^1.7.1",
            "_view_name": "GraphView",
            "layout": "IPY_MODEL_84b09e552d024ce3899a945a7499e89b",
            "tabbable": null,
            "tooltip": null
          }
        },
        "84b09e552d024ce3899a945a7499e89b": {
          "model_module": "@jupyter-widgets/base",
          "model_name": "LayoutModel",
          "model_module_version": "2.0.0",
          "state": {
            "_model_module": "@jupyter-widgets/base",
            "_model_module_version": "2.0.0",
            "_model_name": "LayoutModel",
            "_view_count": null,
            "_view_module": "@jupyter-widgets/base",
            "_view_module_version": "2.0.0",
            "_view_name": "LayoutView",
            "align_content": null,
            "align_items": null,
            "align_self": null,
            "border_bottom": null,
            "border_left": null,
            "border_right": null,
            "border_top": null,
            "bottom": null,
            "display": null,
            "flex": null,
            "flex_flow": null,
            "grid_area": null,
            "grid_auto_columns": null,
            "grid_auto_flow": null,
            "grid_auto_rows": null,
            "grid_column": null,
            "grid_gap": null,
            "grid_row": null,
            "grid_template_areas": null,
            "grid_template_columns": null,
            "grid_template_rows": null,
            "height": "800px",
            "justify_content": null,
            "justify_items": null,
            "left": null,
            "margin": null,
            "max_height": null,
            "max_width": null,
            "min_height": null,
            "min_width": null,
            "object_fit": null,
            "object_position": null,
            "order": null,
            "overflow": null,
            "padding": null,
            "right": null,
            "top": null,
            "visibility": null,
            "width": "100%"
          }
        }
      }
    }
  },
  "nbformat": 4,
  "nbformat_minor": 0
}